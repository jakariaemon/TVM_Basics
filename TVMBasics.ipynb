{
  "nbformat": 4,
  "nbformat_minor": 0,
  "metadata": {
    "colab": {
      "name": "03a_TVM_Tutorial_TVMBasics.ipynb",
      "provenance": []
    },
    "kernelspec": {
      "name": "python3",
      "display_name": "Python 3"
    },
    "accelerator": "GPU"
  },
  "cells": [
    {
      "cell_type": "markdown",
      "metadata": {
        "id": "E8T0-Z4MasbY"
      },
      "source": [
        "TVM Basics\n",
        "=============================================\n",
        "**Author**:  `Eddie Yan <https://github.com/eqy>`_\n",
        "\n",
        "This tutorial introduces the basics of declaring and scheduling an operator (2D convolution) in TVM.\n",
        "\n"
      ]
    },
    {
      "cell_type": "markdown",
      "metadata": {
        "id": "9soFF1q_cV-y"
      },
      "source": [
        "Please run the following block to ensure TVM is setup for *this notebook*, each notebook may have its own runtime.\n",
        "\n"
      ]
    },
    {
      "cell_type": "code",
      "metadata": {
        "id": "G_lzOGuFcUgG",
        "colab": {
          "base_uri": "https://localhost:8080/"
        },
        "outputId": "15db91ac-77a8-4c85-b481-1199d302af93"
      },
      "source": [
        "! gsutil cp \"gs://tvm-fcrc-binariesd5fce43e-8373-11e9-bfb6-0242ac1c0002/tvm.tar.gz\" /tmp/tvm.tar.gz\n",
        "! mkdir -p /tvm\n",
        "! tar -xf /tmp/tvm.tar.gz --strip-components=4 --directory /tvm\n",
        "! ls -la /tvm\n",
        "# Move this block after we are done with pkg step\n",
        "! bash /tvm/package.sh\n",
        "import sys\n",
        "sys.path.append('/tvm/python')\n",
        "sys.path.append('/tvm/topi/python')"
      ],
      "execution_count": 1,
      "outputs": [
        {
          "output_type": "stream",
          "name": "stdout",
          "text": [
            "Copying gs://tvm-fcrc-binariesd5fce43e-8373-11e9-bfb6-0242ac1c0002/tvm.tar.gz...\n",
            "/ [1 files][119.5 MiB/119.5 MiB]                                                \n",
            "Operation completed over 1 objects/119.5 MiB.                                    \n",
            "total 164\n",
            "drwxr-xr-x 21 root root  4096 Sep 23 08:05 .\n",
            "drwxr-xr-x  1 root root  4096 Sep 23 08:05 ..\n",
            "drwx------  8 root root  4096 May 31  2019 3rdparty\n",
            "drwx------ 12 root root  4096 May 31  2019 apps\n",
            "drwx------  3 root root  4096 Jun 19  2019 build\n",
            "drwx------  4 root root  4096 May 31  2019 cmake\n",
            "-rw-------  1 root root 11053 Jun 19  2019 CMakeLists.txt\n",
            "drwx------  6 root root  4096 May 31  2019 conda\n",
            "-rw-------  1 root root  5736 Jun 19  2019 CONTRIBUTORS.md\n",
            "drwx------  3 root root  4096 May 31  2019 docker\n",
            "drwx------ 11 root root  4096 May 31  2019 docs\n",
            "drwx------  4 root root  4096 May 31  2019 golang\n",
            "drwx------  3 root root  4096 May 31  2019 include\n",
            "-rw-------  1 root root 10607 Jun 19  2019 Jenkinsfile\n",
            "drwx------  6 root root  4096 May 31  2019 jvm\n",
            "-rw-------  1 root root 11357 Jun 19  2019 LICENSE\n",
            "-rw-------  1 root root  4267 Jun 19  2019 Makefile\n",
            "-rw-------  1 root root 10476 Jun 19  2019 NEWS.md\n",
            "drwx------  9 root root  4096 May 31  2019 nnvm\n",
            "-rw-------  1 root root    61 Jun 19  2019 NOTICE\n",
            "-rwx------  1 root root   374 Jun 19  2019 package.sh\n",
            "drwx------  3 root root  4096 May 31  2019 python\n",
            "-rw-------  1 root root  2705 Jun 19  2019 README.md\n",
            "drwx------  6 root root  4096 May 31  2019 rust\n",
            "drwx------ 14 root root  4096 May 31  2019 src\n",
            "drwx------  9 root root  4096 May 31  2019 tests\n",
            "drwx------  7 root root  4096 May 31  2019 topi\n",
            "drwx------  8 root root  4096 May 31  2019 tutorials\n",
            "-rw-------  1 root root  2902 Jun 19  2019 version.py\n",
            "drwx------ 10 root root  4096 May 31  2019 vta\n",
            "drwx------  2 root root  4096 May 31  2019 web\n",
            "Installing Dependencies ...\n",
            "deb https://dl.bintray.com/sbt/debian /\n",
            "Executing: /tmp/apt-key-gpghome.3enDv0NkrX/gpg.1.sh --keyserver hkp://keyserver.ubuntu.com:80 --recv 2EE0EA64E40A89B84B2DF73499E82A75642AC823\n",
            "gpg: key 99E82A75642AC823: public key \"sbt build tool <scalasbt@gmail.com>\" imported\n",
            "gpg: Total number processed: 1\n",
            "gpg:               imported: 1\n",
            "Get:1 https://cloud.r-project.org/bin/linux/ubuntu bionic-cran40/ InRelease [3,626 B]\n",
            "Get:2 https://cloud.r-project.org/bin/linux/ubuntu bionic-cran40/ Packages [92.1 kB]\n",
            "Get:3 http://ppa.launchpad.net/c2d4u.team/c2d4u4.0+/ubuntu bionic InRelease [15.9 kB]\n",
            "Hit:4 http://archive.ubuntu.com/ubuntu bionic InRelease\n",
            "Get:5 http://security.ubuntu.com/ubuntu bionic-security InRelease [88.7 kB]\n",
            "Ign:6 https://developer.download.nvidia.com/compute/machine-learning/repos/ubuntu1804/x86_64  InRelease\n",
            "Hit:7 https://developer.download.nvidia.com/compute/cuda/repos/ubuntu1804/x86_64  InRelease\n",
            "Hit:8 https://developer.download.nvidia.com/compute/machine-learning/repos/ubuntu1804/x86_64  Release\n",
            "Get:9 http://archive.ubuntu.com/ubuntu bionic-updates InRelease [88.7 kB]\n",
            "Err:11 https://dl.bintray.com/sbt/debian  InRelease\n",
            "  502  Bad Gateway [IP: 52.34.230.170 443]\n",
            "Hit:12 http://ppa.launchpad.net/cran/libgit2/ubuntu bionic InRelease\n",
            "Get:13 http://archive.ubuntu.com/ubuntu bionic-backports InRelease [74.6 kB]\n",
            "Get:14 http://security.ubuntu.com/ubuntu bionic-security/main amd64 Packages [2,990 kB]\n",
            "Hit:15 http://ppa.launchpad.net/deadsnakes/ppa/ubuntu bionic InRelease\n",
            "Hit:16 http://ppa.launchpad.net/graphics-drivers/ppa/ubuntu bionic InRelease\n",
            "Get:17 http://ppa.launchpad.net/c2d4u.team/c2d4u4.0+/ubuntu bionic/main Sources [2,108 kB]\n",
            "Get:18 http://security.ubuntu.com/ubuntu bionic-security/universe amd64 Packages [1,545 kB]\n",
            "Get:19 http://security.ubuntu.com/ubuntu bionic-security/restricted amd64 Packages [1,161 kB]\n",
            "Get:20 http://archive.ubuntu.com/ubuntu bionic-updates/main amd64 Packages [3,422 kB]\n",
            "Get:21 http://ppa.launchpad.net/c2d4u.team/c2d4u4.0+/ubuntu bionic/main amd64 Packages [1,080 kB]\n",
            "Get:22 http://archive.ubuntu.com/ubuntu bionic-updates/universe amd64 Packages [2,322 kB]\n",
            "Get:23 http://archive.ubuntu.com/ubuntu bionic-updates/restricted amd64 Packages [1,202 kB]\n",
            "Fetched 16.2 MB in 6s (2,833 kB/s)\n",
            "Reading package lists... Done\n",
            "W: Failed to fetch https://dl.bintray.com/sbt/debian/InRelease  502  Bad Gateway [IP: 52.34.230.170 443]\n",
            "W: Some index files failed to download. They have been ignored, or old ones used instead.\n",
            "Reading package lists...\n",
            "Building dependency tree...\n",
            "Reading state information...\n",
            "clinfo is already the newest version (2.2.18.03.26-1).\n",
            "libtinfo-dev is already the newest version (6.1-1ubuntu1.18.04).\n",
            "libtinfo-dev set to manually installed.\n",
            "zlib1g-dev is already the newest version (1:1.2.11.dfsg-0ubuntu2.2).\n",
            "zlib1g-dev set to manually installed.\n",
            "The following package was automatically installed and is no longer required:\n",
            "  libnvidia-common-460\n",
            "Use 'sudo apt autoremove' to remove it.\n",
            "Suggested packages:\n",
            "  llvm-6.0-doc\n",
            "The following NEW packages will be installed:\n",
            "  binfmt-support libffi-dev llvm-6.0 llvm-6.0-dev llvm-6.0-runtime tree\n",
            "0 upgraded, 6 newly installed, 0 to remove and 41 not upgraded.\n",
            "Need to get 28.3 MB of archives.\n",
            "After this operation, 178 MB of additional disk space will be used.\n",
            "Get:1 http://archive.ubuntu.com/ubuntu bionic/main amd64 binfmt-support amd64 2.1.8-2 [51.6 kB]\n",
            "Get:2 http://archive.ubuntu.com/ubuntu bionic/main amd64 llvm-6.0-runtime amd64 1:6.0-1ubuntu2 [200 kB]\n",
            "Get:3 http://archive.ubuntu.com/ubuntu bionic/main amd64 llvm-6.0 amd64 1:6.0-1ubuntu2 [4,838 kB]\n",
            "Get:4 http://archive.ubuntu.com/ubuntu bionic/main amd64 libffi-dev amd64 3.2.1-8 [156 kB]\n",
            "Get:5 http://archive.ubuntu.com/ubuntu bionic/main amd64 llvm-6.0-dev amd64 1:6.0-1ubuntu2 [23.0 MB]\n",
            "Get:6 http://archive.ubuntu.com/ubuntu bionic/universe amd64 tree amd64 1.7.0-5 [40.7 kB]\n",
            "Fetched 28.3 MB in 4s (7,499 kB/s)\n",
            "debconf: unable to initialize frontend: Dialog\n",
            "debconf: (No usable dialog-like program is installed, so the dialog based frontend cannot be used. at /usr/share/perl5/Debconf/FrontEnd/Dialog.pm line 76, <> line 6.)\n",
            "debconf: falling back to frontend: Readline\n",
            "debconf: unable to initialize frontend: Readline\n",
            "debconf: (This frontend requires a controlling tty.)\n",
            "debconf: falling back to frontend: Teletype\n",
            "dpkg-preconfigure: unable to re-open stdin: \n",
            "Selecting previously unselected package binfmt-support.\n",
            "(Reading database ... 155569 files and directories currently installed.)\n",
            "Preparing to unpack .../0-binfmt-support_2.1.8-2_amd64.deb ...\n",
            "Unpacking binfmt-support (2.1.8-2) ...\n",
            "Selecting previously unselected package llvm-6.0-runtime.\n",
            "Preparing to unpack .../1-llvm-6.0-runtime_1%3a6.0-1ubuntu2_amd64.deb ...\n",
            "Unpacking llvm-6.0-runtime (1:6.0-1ubuntu2) ...\n",
            "Selecting previously unselected package llvm-6.0.\n",
            "Preparing to unpack .../2-llvm-6.0_1%3a6.0-1ubuntu2_amd64.deb ...\n",
            "Unpacking llvm-6.0 (1:6.0-1ubuntu2) ...\n",
            "Selecting previously unselected package libffi-dev:amd64.\n",
            "Preparing to unpack .../3-libffi-dev_3.2.1-8_amd64.deb ...\n",
            "Unpacking libffi-dev:amd64 (3.2.1-8) ...\n",
            "Selecting previously unselected package llvm-6.0-dev.\n",
            "Preparing to unpack .../4-llvm-6.0-dev_1%3a6.0-1ubuntu2_amd64.deb ...\n",
            "Unpacking llvm-6.0-dev (1:6.0-1ubuntu2) ...\n",
            "Selecting previously unselected package tree.\n",
            "Preparing to unpack .../5-tree_1.7.0-5_amd64.deb ...\n",
            "Unpacking tree (1.7.0-5) ...\n",
            "Setting up binfmt-support (2.1.8-2) ...\n",
            "Created symlink /etc/systemd/system/multi-user.target.wants/binfmt-support.service → /lib/systemd/system/binfmt-support.service.\n",
            "invoke-rc.d: could not determine current runlevel\n",
            "invoke-rc.d: policy-rc.d denied execution of start.\n",
            "Setting up tree (1.7.0-5) ...\n",
            "Setting up libffi-dev:amd64 (3.2.1-8) ...\n",
            "Setting up llvm-6.0-runtime (1:6.0-1ubuntu2) ...\n",
            "Setting up llvm-6.0 (1:6.0-1ubuntu2) ...\n",
            "Setting up llvm-6.0-dev (1:6.0-1ubuntu2) ...\n",
            "Processing triggers for systemd (237-3ubuntu10.56) ...\n",
            "Processing triggers for man-db (2.8.3-2ubuntu0.1) ...\n",
            "Processing triggers for libc-bin (2.27-3ubuntu1.5) ...\n",
            "Reading package lists... Done\n",
            "Building dependency tree       \n",
            "Reading state information... Done\n",
            "E: Unable to locate package sbt\n"
          ]
        }
      ]
    },
    {
      "cell_type": "markdown",
      "metadata": {
        "id": "agr421w8a49k"
      },
      "source": [
        "Import packages:"
      ]
    },
    {
      "cell_type": "code",
      "metadata": {
        "id": "C9JnukA4aTLJ"
      },
      "source": [
        "import numpy as np\n",
        "import tvm\n",
        "import matplotlib as mpl\n",
        "from matplotlib import pyplot as plt"
      ],
      "execution_count": 2,
      "outputs": []
    },
    {
      "cell_type": "markdown",
      "metadata": {
        "id": "u5YlgPYma_5r"
      },
      "source": [
        "Define the convolution shape\n",
        "---------------------------------------------------------------------------------------------\n",
        "\n",
        "We will implement a convolution operator similar to those found in networks like ResNet-18.\n",
        "We begin by defining the shape for the specific convolution we will implement:\n"
      ]
    },
    {
      "cell_type": "code",
      "metadata": {
        "id": "DhtW-j3bbMLI"
      },
      "source": [
        "input_channels = 64\n",
        "output_channels = 64\n",
        "kernel_size = 3\n",
        "input_height = 56\n",
        "input_width = 56\n",
        "padding = (1,1)\n",
        "\n",
        "output_height = (input_height + 2*padding[0] - kernel_size + 1)\n",
        "output_width = (input_width + 2*padding[1] - kernel_size + 1)\n",
        "\n",
        "# We define the input in H, W, C (height, width, channels) layout\n",
        "input_shape = (input_height+2*padding[0], input_width+2*padding[1], input_channels)\n",
        "# We define the kernel weights in H, W, I, O (kernel height, kernel width, input\n",
        "# channel, output channel) layout\n",
        "weight_shape = (kernel_size, kernel_size, input_channels, output_channels)\n",
        "# Wed define the output in H, W, C (height, width, channels) layout\n",
        "output_shape = (output_height, output_width, output_channels)"
      ],
      "execution_count": 3,
      "outputs": []
    },
    {
      "cell_type": "markdown",
      "metadata": {
        "id": "PYacZkkNd_xG"
      },
      "source": [
        "Define the convolution\n",
        "---------------------------------------------------------------------------------------------\n",
        "\n",
        "To define the convolution operator, we first declare placeholders using the shape dimensions we just defined. We then define the reduction axes for the summation that occurs for each output position of the convolution. There are three reduction axes in this case: the vertical spatial axis, the horizontal spatial axis, and the channel axis.\n",
        "\n"
      ]
    },
    {
      "cell_type": "code",
      "metadata": {
        "id": "afD69lgUd-QG"
      },
      "source": [
        "input_placeholder = tvm.placeholder(input_shape, name='data')\n",
        "weight_placeholder = tvm.placeholder(weight_shape, name='weight')\n",
        "rc = tvm.reduce_axis((0, input_channels), name='rc')\n",
        "ry = tvm.reduce_axis((0, kernel_size), name='ry')\n",
        "rx = tvm.reduce_axis((0, kernel_size), name='rx')\n",
        "comp = tvm.compute((output_height, output_width, output_channels),\n",
        "    lambda output_y, output_x, output_channel:\n",
        "    tvm.sum(input_placeholder[output_y + ry][output_x + rx][rc]\n",
        "    * weight_placeholder[ry][rx][rc][output_channel],\n",
        "        axis=[ry, rx, rc])\n",
        "    )"
      ],
      "execution_count": 4,
      "outputs": []
    },
    {
      "cell_type": "markdown",
      "metadata": {
        "id": "iDGX2K6MeWH6"
      },
      "source": [
        "Generate the Default Schedule\n",
        "---------------------------------------------------------------------------------------------\n",
        "\n",
        "After declaring the convolution we can use TVM to generate a default schedule for the convolution. The default schedule is the generic multi-level loop nest implementation without any optimizations applied. Crucially, we will see that the schedule can be manipulated programmatically.\n",
        "\n"
      ]
    },
    {
      "cell_type": "code",
      "metadata": {
        "id": "yLaKLAH7eWRH",
        "colab": {
          "base_uri": "https://localhost:8080/"
        },
        "outputId": "9667e9ea-0094-4e9a-cb9d-cef97c02273b"
      },
      "source": [
        "s = tvm.create_schedule(comp.op)\n",
        "# print the loop nest (default schedule)\n",
        "print(tvm.lower(s, [input_placeholder, weight_placeholder, comp], simple_mode=True))"
      ],
      "execution_count": 5,
      "outputs": [
        {
          "output_type": "stream",
          "name": "stdout",
          "text": [
            "produce compute {\n",
            "  for (output_y, 0, 56) {\n",
            "    for (output_x, 0, 56) {\n",
            "      for (output_channel, 0, 64) {\n",
            "        compute[((((output_y*56) + output_x)*64) + output_channel)] = 0.000000f\n",
            "        for (ry, 0, 3) {\n",
            "          for (rx, 0, 3) {\n",
            "            for (rc, 0, 64) {\n",
            "              compute[((((output_y*56) + output_x)*64) + output_channel)] = (compute[((((output_y*56) + output_x)*64) + output_channel)] + (data[((((((output_y + ry)*58) + output_x) + rx)*64) + rc)]*weight[((((((ry*3) + rx)*64) + rc)*64) + output_channel)]))\n",
            "            }\n",
            "          }\n",
            "        }\n",
            "      }\n",
            "    }\n",
            "  }\n",
            "}\n",
            "\n"
          ]
        }
      ]
    },
    {
      "cell_type": "markdown",
      "metadata": {
        "id": "Ioy8jp7qRBGW"
      },
      "source": [
        "We also evaluate the performance of the default schedule."
      ]
    },
    {
      "cell_type": "code",
      "metadata": {
        "id": "GaR-j8XRRGGa",
        "colab": {
          "base_uri": "https://localhost:8080/"
        },
        "outputId": "f6ca6fb9-d204-416f-a159-a5187ad671b9"
      },
      "source": [
        "# compile the function\n",
        "default_func = tvm.build(s, [input_placeholder, weight_placeholder, comp], target='llvm -mcpu=core-avx2', name='conv')\n",
        "# create a time evaluator instance for measuring the run time\n",
        "timer = default_func.time_evaluator(default_func.entry_name, tvm.cpu(0), min_repeat_ms=100)\n",
        "\n",
        "# data arrays for inputs and outputs to the function\n",
        "data = np.random.random(input_shape).astype('float32')\n",
        "weight = np.random.random(weight_shape).astype('float32')\n",
        "data_tvm = tvm.nd.array(data)\n",
        "weight_tvm = tvm.nd.array(weight)\n",
        "output_tvm = tvm.nd.array(np.empty(output_shape).astype('float32'))\n",
        "# time the execution of the function\n",
        "res_default = timer(data_tvm, weight_tvm, output_tvm)\n",
        "print(\"Conv2D with default schedule finished in:\", res_default.mean, \"seconds\")"
      ],
      "execution_count": 6,
      "outputs": [
        {
          "output_type": "stream",
          "name": "stdout",
          "text": [
            "Conv2D with default schedule finished in: 0.1418912796 seconds\n"
          ]
        }
      ]
    },
    {
      "cell_type": "markdown",
      "metadata": {
        "id": "RH6gor8XjvXM"
      },
      "source": [
        "Scheduling the Convolution\n",
        "---------------------------------------------------------------------------------------------\n",
        "\n",
        "Next, we apply some scheduling primitives to the convolution.\n",
        "A useful transformation for many operators is to reorder the loop axes for better locality.\n",
        "Here, we can grab references to the spatial and reduction axes of the computation and reorder them.\n",
        "\n"
      ]
    },
    {
      "cell_type": "code",
      "metadata": {
        "id": "_yIhMYiQjvhQ",
        "colab": {
          "base_uri": "https://localhost:8080/"
        },
        "outputId": "b6374119-2aaa-44d5-b57d-419f0c30cfa9"
      },
      "source": [
        "yo, xo, co = comp.op.axis\n",
        "ry, rx, rc = s[comp].op.reduce_axis\n",
        "s[comp].reorder(rx, ry, yo, xo, rc, co)\n",
        "\n",
        "# print the loop nest (reordered schedule)\n",
        "print(tvm.lower(s, [input_placeholder, weight_placeholder, comp], simple_mode=True))\n",
        "\n",
        "reordered_func = tvm.build(s, [input_placeholder, weight_placeholder, comp], target='llvm -mcpu=core-avx2', name='conv')\n",
        "timer = reordered_func.time_evaluator(reordered_func.entry_name, tvm.cpu(0), min_repeat_ms=100)\n",
        "res_reorder = timer(data_tvm, weight_tvm, output_tvm)\n",
        "print(\"Conv2D with reordered schedule finished in:\", res_reorder.mean, \"seconds\")"
      ],
      "execution_count": 7,
      "outputs": [
        {
          "output_type": "stream",
          "name": "stdout",
          "text": [
            "produce compute {\n",
            "  for (output_y.init, 0, 56) {\n",
            "    for (output_x.init, 0, 56) {\n",
            "      for (output_channel.init, 0, 64) {\n",
            "        compute[((((output_y.init*56) + output_x.init)*64) + output_channel.init)] = 0.000000f\n",
            "      }\n",
            "    }\n",
            "  }\n",
            "  for (rx, 0, 3) {\n",
            "    for (ry, 0, 3) {\n",
            "      for (output_y, 0, 56) {\n",
            "        for (output_x, 0, 56) {\n",
            "          for (rc, 0, 64) {\n",
            "            for (output_channel, 0, 64) {\n",
            "              compute[((((output_y*56) + output_x)*64) + output_channel)] = (compute[((((output_y*56) + output_x)*64) + output_channel)] + (data[((((((output_y + ry)*58) + output_x) + rx)*64) + rc)]*weight[((((((ry*3) + rx)*64) + rc)*64) + output_channel)]))\n",
            "            }\n",
            "          }\n",
            "        }\n",
            "      }\n",
            "    }\n",
            "  }\n",
            "}\n",
            "\n",
            "Conv2D with reordered schedule finished in: 0.003065544818181818 seconds\n"
          ]
        }
      ]
    },
    {
      "cell_type": "markdown",
      "metadata": {
        "id": "QSicMUUukiu2"
      },
      "source": [
        "More schedule transformations\n",
        "---------------------------------------------------\n",
        "Next, we can vectorize a loop with the `vectorize` schedule primitive."
      ]
    },
    {
      "cell_type": "code",
      "metadata": {
        "id": "VT992Qu6ki6n",
        "colab": {
          "base_uri": "https://localhost:8080/"
        },
        "outputId": "111c70ae-d208-4078-d457-422ee66de244"
      },
      "source": [
        "# print the loop nest (parallelized and reordered schedule)\n",
        "s[comp].vectorize(co)\n",
        "print(tvm.lower(s, [input_placeholder, weight_placeholder, comp], simple_mode=True))\n",
        "\n",
        "\n",
        "reordered_parallel_func = tvm.build(s, [input_placeholder, weight_placeholder, comp], target='llvm -mcpu=core-avx2', name='conv')\n",
        "timer = reordered_parallel_func.time_evaluator(reordered_parallel_func.entry_name, tvm.cpu(0), min_repeat_ms=100)\n",
        "res_vectorize = timer(data_tvm, weight_tvm, output_tvm)\n",
        "print(\"Conv2D with reordered and vectorized schedule finished in:\", res_vectorize.mean, \"seconds\")"
      ],
      "execution_count": 8,
      "outputs": [
        {
          "output_type": "stream",
          "name": "stdout",
          "text": [
            "produce compute {\n",
            "  for (output_y.init, 0, 56) {\n",
            "    for (output_x.init, 0, 56) {\n",
            "      compute[ramp((((output_y.init*56) + output_x.init)*64), 1, 64)] = x64(0.000000f)\n",
            "    }\n",
            "  }\n",
            "  for (rx, 0, 3) {\n",
            "    for (ry, 0, 3) {\n",
            "      for (output_y, 0, 56) {\n",
            "        for (output_x, 0, 56) {\n",
            "          for (rc, 0, 64) {\n",
            "            compute[ramp((((output_y*56) + output_x)*64), 1, 64)] = (compute[ramp((((output_y*56) + output_x)*64), 1, 64)] + (x64(data[((((((output_y + ry)*58) + output_x) + rx)*64) + rc)])*weight[ramp((((((ry*3) + rx)*64) + rc)*64), 1, 64)]))\n",
            "          }\n",
            "        }\n",
            "      }\n",
            "    }\n",
            "  }\n",
            "}\n",
            "\n",
            "Conv2D with reordered and vectorized schedule finished in: 0.0029129720666666668 seconds\n"
          ]
        }
      ]
    },
    {
      "cell_type": "markdown",
      "metadata": {
        "id": "7EE2xVI-U8WY"
      },
      "source": [
        "Conclusion\n",
        "--------------\n",
        "We showed how to declare and introduced the concept of scheduling in TVM. Scheduling is a very complex process with many co-dependent steps. Effective schedules often require several manipulations which in isolation may not improve performance."
      ]
    },
    {
      "cell_type": "code",
      "metadata": {
        "id": "qlS0EilTXp7o",
        "colab": {
          "base_uri": "https://localhost:8080/",
          "height": 388
        },
        "outputId": "1b408fb9-3a37-4c83-e2b1-723cac79ec7d"
      },
      "source": [
        "#performance summary\n",
        "res = [res_default.mean, res_reorder.mean, res_vectorize.mean]\n",
        "y_pos = np.arange(len(res))\n",
        "plt.xlabel('runtime (s)')\n",
        "labels = ['default', '+reorder', '+reorder,vectorize']\n",
        "\n",
        "plt.barh(y_pos, res)\n",
        "plt.yticks(y_pos, labels)\n"
      ],
      "execution_count": 9,
      "outputs": [
        {
          "output_type": "execute_result",
          "data": {
            "text/plain": [
              "([<matplotlib.axis.YTick at 0x7ff109076490>,\n",
              "  <matplotlib.axis.YTick at 0x7ff1091e2c90>,\n",
              "  <matplotlib.axis.YTick at 0x7ff1091add90>],\n",
              " [Text(0, 0, 'default'),\n",
              "  Text(0, 0, '+reorder'),\n",
              "  Text(0, 0, '+reorder,vectorize')])"
            ]
          },
          "metadata": {},
          "execution_count": 9
        },
        {
          "output_type": "display_data",
          "data": {
            "text/plain": [
              "<Figure size 432x288 with 1 Axes>"
            ],
            "image/png": "[encoded data removed]"
          },
          "metadata": {
            "needs_background": "light"
          }
        }
      ]
    }
  ]
}